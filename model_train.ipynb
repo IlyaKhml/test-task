{
  "cells": [
    {
      "cell_type": "markdown",
      "metadata": {
        "id": "cKc_-8KwZiki"
      },
      "source": [
        "# **Импорт библиотек**"
      ]
    },
    {
      "cell_type": "code",
      "execution_count": 1,
      "metadata": {
        "id": "g4u9gyuLZHhD"
      },
      "outputs": [],
      "source": [
        "import pandas as pd\n",
        "import dill\n",
        "import os\n",
        "from functools import partial\n",
        "\n",
        "from sklearn.pipeline import Pipeline\n",
        "from sklearn.compose import ColumnTransformer\n",
        "from sklearn.preprocessing import FunctionTransformer, OneHotEncoder\n",
        "from sklearn.feature_extraction.text import TfidfVectorizer\n",
        "from sklearn.ensemble import RandomForestClassifier\n",
        "from sklearn.base import BaseEstimator, TransformerMixin\n",
        "\n",
        "from sklearn.metrics import classification_report\n",
        "from sklearn.model_selection import train_test_split"
      ]
    },
    {
      "cell_type": "markdown",
      "metadata": {
        "id": "6cjTHBI9ZlYn"
      },
      "source": [
        "# **Загрузка и подготовка данных**"
      ]
    },
    {
      "cell_type": "code",
      "execution_count": 2,
      "metadata": {},
      "outputs": [],
      "source": [
        "data_path = 'Сводная 2.xlsx'"
      ]
    },
    {
      "cell_type": "code",
      "execution_count": 3,
      "metadata": {
        "id": "JM-JTR_aZWXC"
      },
      "outputs": [],
      "source": [
        "try:\n",
        "    if data_path.endswith('.xlsx'):\n",
        "        data = pd.read_excel(data_path)\n",
        "\n",
        "    elif data_path.endswith('.csv'):\n",
        "        data = pd.read_csv(data_path)\n",
        "\n",
        "except Exception as e:\n",
        "    raise ValueError(f\"Ошибка при загрузке данных: {e}\")"
      ]
    },
    {
      "cell_type": "code",
      "execution_count": 4,
      "metadata": {
        "id": "cFLP1jbhfYwn"
      },
      "outputs": [],
      "source": [
        "def preprocess_df(df: pd.DataFrame, threshold_percent: float = 99, del_first_row: bool = True) -> pd.DataFrame:\n",
        "    \"\"\"\n",
        "    Очищает DataFrame, удаляя столбцы с пропусками выше порога и (опционально) первую строку.\n",
        "\n",
        "    :param df: Входной DataFrame\n",
        "    :param threshold_percent: Порог удаления столбцов (в процентах пропусков)\n",
        "    :param del_first_row: Флаг удаления первой строки\n",
        "    :return: Очищенный DataFrame\n",
        "    \"\"\"\n",
        "    if not (0 <= threshold_percent <= 100):\n",
        "        raise ValueError(\"Порог должен быть в диапазоне от 0 до 100.\")\n",
        "    \n",
        "    df = df.iloc[1:].reset_index(drop=True) if del_first_row else df.copy()\n",
        "    \n",
        "    threshold = threshold_percent / 100\n",
        "    columns_to_keep = df.columns[df.isnull().mean() <= threshold]\n",
        "    \n",
        "    return df[columns_to_keep].fillna(\"\")\n",
        "\n",
        "data = preprocess_df(data)"
      ]
    },
    {
      "cell_type": "markdown",
      "metadata": {
        "id": "wbgVlUqTaRtn"
      },
      "source": [
        "# **Обучение модели**"
      ]
    },
    {
      "cell_type": "markdown",
      "metadata": {},
      "source": [
        "### Определение колонок"
      ]
    },
    {
      "cell_type": "code",
      "execution_count": 6,
      "metadata": {
        "colab": {
          "base_uri": "https://localhost:8080/"
        },
        "id": "AAwcTGbdwXDx",
        "outputId": "2bc129c1-04a7-460e-bdd3-1f9b248a2a3a"
      },
      "outputs": [
        {
          "name": "stdout",
          "output_type": "stream",
          "text": [
            "Категориальные столбцы: ['Марка РД', 'Ед. изм.']\n",
            "Текстовые столбцы: ['Чертёж', 'Наименование МТР', 'Тип, марка ГОСТ МТР']\n"
          ]
        }
      ],
      "source": [
        "# ---------------------------------------------------------------------------------------\n",
        "# Автоматическое определение категориальных колонок на основе кол-ва уникальных значений\n",
        "# ---------------------------------------------------------------------------------------\n",
        "\n",
        "TARGET_COL = \"Группа МТР (ред.)\"\n",
        "CATEGORICAL_THRESHOLD = 150  # Порог уникальных значений для категориальных данных\n",
        "\n",
        "# Разделение колонок на категориальные и текстовые\n",
        "categorical_cols = [\n",
        "    col for col in data.columns \n",
        "    if col != TARGET_COL and data[col].nunique() <= CATEGORICAL_THRESHOLD\n",
        "]\n",
        "\n",
        "text_cols = [\n",
        "    col for col in data.columns \n",
        "    if col != TARGET_COL and data[col].nunique() > CATEGORICAL_THRESHOLD\n",
        "]\n",
        "\n",
        "print(\"Категориальные столбцы:\", categorical_cols)\n",
        "print(\"Текстовые столбцы:\", text_cols)"
      ]
    },
    {
      "cell_type": "code",
      "execution_count": 5,
      "metadata": {
        "id": "GiMOXPOgx-xg"
      },
      "outputs": [],
      "source": [
        "# ---------------------------\n",
        "# Ручное определение колонок\n",
        "# ---------------------------\n",
        "\n",
        "TARGET_COL = \"Группа МТР (ред.)\"\n",
        "categorical_cols = ['Чертёж', 'Тип, марка ГОСТ МТР', 'Марка РД']\n",
        "text_cols = ['Наименование МТР', 'Ед. изм.']"
      ]
    },
    {
      "cell_type": "markdown",
      "metadata": {},
      "source": [
        "### Обучение модели"
      ]
    },
    {
      "cell_type": "code",
      "execution_count": 6,
      "metadata": {
        "colab": {
          "base_uri": "https://localhost:8080/"
        },
        "id": "vy6YFpenHKGK",
        "outputId": "e8f692c5-804b-493e-b123-60cbc5cb5a18"
      },
      "outputs": [
        {
          "name": "stdout",
          "output_type": "stream",
          "text": [
            "                                                         precision    recall  f1-score   support\n",
            "\n",
            "                                    Ёмкости, резервуары       0.00      0.00      0.00         2\n",
            "                                  Арматура строительная       1.00      0.98      0.99       183\n",
            "                                                Асфальт       1.00      1.00      1.00         3\n",
            "                                                  Бетон       0.99      0.97      0.98        70\n",
            "                             Бытовая техника, оргтехика       1.00      0.50      0.67         8\n",
            "         Вагончики, контейнеры, блочно-модульные здания       0.67      1.00      0.80         2\n",
            "                                            Воздуховоды       0.98      1.00      0.99        63\n",
            "                                    Вспомогательные МТР       1.00      0.80      0.89         5\n",
            "                                           Газоходы (т)       1.00      1.00      1.00        18\n",
            "                                         Газоходы (шт.)       0.50      0.25      0.33         4\n",
            "                                           Геоматериалы       1.00      0.33      0.50         9\n",
            "                                     Геоматериалы (шт.)       0.83      0.83      0.83         6\n",
            "                             Деревья, кустарники, травы       0.00      0.00      0.00         3\n",
            "                                                    ЖБИ       0.96      0.92      0.94        92\n",
            "                                                    ЗИП       0.94      0.80      0.86        20\n",
            "                                                    ЗРА       0.98      0.98      0.98       183\n",
            "               Изделия и материалы систем водоотведения       0.84      0.96      0.90        28\n",
            "                                     Инертные материалы       0.96      0.96      0.96        46\n",
            "                                  Инструмент, механизмы       1.00      0.50      0.67         6\n",
            "                                  КИПиА и комплектующие       0.98      0.90      0.94       167\n",
            "                                  Кабеленесущие системы       0.87      0.89      0.88       151\n",
            "                              Кабеленесущие системы (м)       1.00      0.64      0.78        11\n",
            "                                Кабельная арматура (КА)       0.93      0.95      0.94       210\n",
            "                       Кабельно-проводниковая продукция       0.99      0.99      0.99       249\n",
            "          Кирпич, газобетонные, керамзитобетонные блоки       1.00      1.00      1.00        34\n",
            "          Колодцы обслуживания, приямки и комплектующие       1.00      0.71      0.83         7\n",
            "                         Конструкции кровельно-фасадные       0.88      0.78      0.83        46\n",
            "                              Крепеж и метизы (весовые)       0.93      0.97      0.95        76\n",
            "                                  Крепеж и метизы (шт.)       0.91      0.95      0.93       392\n",
            "                                                    ЛКМ       0.85      0.87      0.86        79\n",
            "                        Малые архитектурные формы (МАФ)       0.80      1.00      0.89        12\n",
            "                      Маркировочные изделия и материалы       0.50      0.10      0.17        10\n",
            "                                Материалы АКЗ, ОГЗ (кг)       0.94      0.89      0.91        98\n",
            "                                Материалы АКЗ, ОГЗ (м2)       1.00      0.81      0.90        16\n",
            "                  Материалы гидро-пароизоляционные (кг)       0.91      0.83      0.87        36\n",
            "                  Материалы гидро-пароизоляционные (м2)       0.83      0.86      0.84        28\n",
            "                          Материалы для благоустройства       1.00      1.00      1.00         6\n",
            "                                  Материалы систем ОВиК       0.92      0.98      0.95       409\n",
            "                  Материалы теплоизоляционные (весовые)       1.00      0.25      0.40         4\n",
            "                        Материалы теплоизоляционные (м)       1.00      0.93      0.97       104\n",
            "                       Материалы теплоизоляционные (м2)       0.86      0.71      0.78        42\n",
            "                       Материалы теплоизоляционные (м3)       0.93      1.00      0.96        66\n",
            "                      Материалы теплоизоляционные (шт.)       1.00      0.92      0.96        13\n",
            "                         Мебель и декоративные элементы       0.93      1.00      0.97        14\n",
            "                               Мебель по дизайн проекту       0.00      0.00      0.00         2\n",
            "                                         Металлоизделия       0.96      0.81      0.88        94\n",
            "                                     Металлоизделия (м)       0.83      1.00      0.91         5\n",
            "                                     Металлоконструкции       1.00      0.82      0.90        22\n",
            "                                      Металлопрокат (м)       0.87      0.84      0.85        73\n",
            "                                     Металлопрокат (м2)       0.94      0.84      0.89        37\n",
            "                                  Металлопрокат весовой       0.92      0.97      0.94       221\n",
            "                                                   ОДЦИ       0.88      0.90      0.89        41\n",
            "                                           Оборудование       0.79      0.56      0.65        59\n",
            "                         Оборудование и материалы СКУД        1.00      0.75      0.86         8\n",
            "               Оборудование и материалы противопожарные       0.97      0.91      0.94        70\n",
            "                               Оборудование систем ОВиК       0.96      0.81      0.88        93\n",
            "                             Общестроительные материалы       1.00      1.00      1.00         1\n",
            "                             Ограждения и комплектующие       0.95      0.95      0.95        20\n",
            "                         Ограждения и комплектующие (м)       1.00      1.00      1.00         1\n",
            "                    Окна, двери, ворота и комплектующие       0.93      0.98      0.95       130\n",
            "                                                  Опоры       0.97      0.96      0.97       161\n",
            "                         Отделочные материалы (весовые)       1.00      1.00      1.00         2\n",
            "                               Отделочные материалы (м)       0.83      0.71      0.77         7\n",
            "                              Отделочные материалы (м2)       0.78      0.98      0.87        60\n",
            "                             Отделочные материалы (шт.)       1.00      0.57      0.73         7\n",
            "                                          Пиломатериалы       1.00      1.00      1.00         2\n",
            "                     Предупреждающие знаки безопасности       1.00      0.86      0.92        14\n",
            "                                    Расходные материалы       0.82      0.55      0.66        49\n",
            "                        Резинотехнические изделия (РТИ)       0.96      0.76      0.85        33\n",
            "                                                    СИЗ       1.00      1.00      1.00         1\n",
            "                     Сантехнические изделия и материалы       0.94      0.89      0.92        38\n",
            "                                    Сварочные материалы       1.00      0.95      0.97        19\n",
            "           Смеси, растворы строительные, клей (весовые)       0.82      0.91      0.86        75\n",
            "                Смеси, растворы строительные, клей (м3)       1.00      0.87      0.93        15\n",
            "              Соединительные детали трубопроводов (СДТ)       0.91      0.99      0.95       570\n",
            "                                    Сэндвич-панели (м2)       0.94      1.00      0.97        16\n",
            "                                   Сэндвич-панели (шт.)       1.00      1.00      1.00        14\n",
            "       Труба ПВХ, ПЭ, ПП, ПНД, металлополuмерная и т.п.       0.96      0.98      0.97       118\n",
            "                    Труба прочая (медная, чугунная, ХЦ)       1.00      0.76      0.87        17\n",
            "                                     Труба стальная (м)       0.96      0.99      0.97       213\n",
            "                                     Труба стальная (т)       0.93      0.76      0.84        17\n",
            "               Электромонтажные изделия и материалы (м)       0.89      0.95      0.92        43\n",
            "           Электромонтажные изделия изделия и материалы       0.88      0.80      0.84        93\n",
            "Электротехника, электроустановочные изделия и материалы       0.85      0.92      0.88       290\n",
            "\n",
            "                                               accuracy                           0.93      5782\n",
            "                                              macro avg       0.89      0.82      0.84      5782\n",
            "                                           weighted avg       0.93      0.93      0.92      5782\n",
            "\n"
          ]
        },
        {
          "name": "stderr",
          "output_type": "stream",
          "text": [
            "g:\\m108\\venv\\lib\\site-packages\\sklearn\\metrics\\_classification.py:1565: UndefinedMetricWarning: Precision is ill-defined and being set to 0.0 in labels with no predicted samples. Use `zero_division` parameter to control this behavior.\n",
            "  _warn_prf(average, modifier, f\"{metric.capitalize()} is\", len(result))\n",
            "g:\\m108\\venv\\lib\\site-packages\\sklearn\\metrics\\_classification.py:1565: UndefinedMetricWarning: Precision is ill-defined and being set to 0.0 in labels with no predicted samples. Use `zero_division` parameter to control this behavior.\n",
            "  _warn_prf(average, modifier, f\"{metric.capitalize()} is\", len(result))\n",
            "g:\\m108\\venv\\lib\\site-packages\\sklearn\\metrics\\_classification.py:1565: UndefinedMetricWarning: Precision is ill-defined and being set to 0.0 in labels with no predicted samples. Use `zero_division` parameter to control this behavior.\n",
            "  _warn_prf(average, modifier, f\"{metric.capitalize()} is\", len(result))\n"
          ]
        }
      ],
      "source": [
        "# Класс для гибкости пайплайна. Если на вход подаются данные без указанных столбцов, то создаём их с пустыми значениями.\n",
        "class SafeReindexer(BaseEstimator, TransformerMixin):\n",
        "    def __init__(self, required_cols, fill_value=None):\n",
        "        self.required_cols = required_cols\n",
        "        self.fill_value = fill_value\n",
        "\n",
        "    def fit(self, X, y=None):\n",
        "        return self\n",
        "\n",
        "    def transform(self, X):\n",
        "        # Преобразуем в DataFrame, чтобы удобно было добавлять столбцы\n",
        "        if not isinstance(X, pd.DataFrame):\n",
        "            X = pd.DataFrame(X)\n",
        "\n",
        "        # reindex добавит недостающие столбцы, заполнит их fill_value\n",
        "        # а лишние столбцы сохранит (можно указать, что делать с ними).\n",
        "        X = X.reindex(columns=self.required_cols, fill_value=self.fill_value)\n",
        "\n",
        "        return X\n",
        "\n",
        "# --- Пайплайн для \"категориальных\" колонок ---\n",
        "cat_pipeline = Pipeline([\n",
        "    # Переводим в строки все значения\n",
        "    ('astype_str', FunctionTransformer(lambda x: x.astype(str), validate=False)),\n",
        "    # OneHotEncoder для кодирования категориальных признаков\n",
        "    (\"onehot\", OneHotEncoder(sparse_output=False, handle_unknown='ignore'))\n",
        "])\n",
        "\n",
        "# --- Пайплайн для \"текстовых\" колонок ---\n",
        "# Объединяем все колонки в один текст и подаём в TfidfVectorizer\n",
        "text_pipeline = Pipeline([\n",
        "    (\n",
        "        \"to_df\",\n",
        "        FunctionTransformer(\n",
        "            partial(lambda arr, cols: pd.DataFrame(arr, columns=cols), cols=text_cols),\n",
        "            validate=False\n",
        "        )\n",
        "    ),\n",
        "    (\n",
        "        \"combine_text\",\n",
        "        FunctionTransformer(\n",
        "            lambda df: df.apply(lambda row: \" \".join(row.astype(str)), axis=1),\n",
        "            validate=False\n",
        "        )\n",
        "    ),\n",
        "    (\"tfidf\", TfidfVectorizer())\n",
        "])\n",
        "\n",
        "# --- ColumnTransformer для параллельной обработки ---\n",
        "preprocessor = ColumnTransformer([\n",
        "    (\"cat\", cat_pipeline, categorical_cols),\n",
        "    (\"text\", text_pipeline, text_cols)\n",
        "])\n",
        "\n",
        "# Итоговый пайплайн\n",
        "pipeline = Pipeline([\n",
        "    (\"safe_reindex\", SafeReindexer(required_cols=(categorical_cols + text_cols), fill_value=\"\")),\n",
        "    (\"preprocessing\", preprocessor),\n",
        "    (\"clf\", RandomForestClassifier(random_state=42))\n",
        "])\n",
        "\n",
        "# Разделяем на признаки и целевую переменную\n",
        "X = data.drop(columns=[TARGET_COL])\n",
        "y = data[TARGET_COL]\n",
        "\n",
        "# Тренировочная и тестовая выборки\n",
        "X_train, X_test, y_train, y_test = train_test_split(\n",
        "    X, y,\n",
        "    test_size=0.3,\n",
        "    random_state=42,\n",
        "    stratify=y\n",
        ")\n",
        "\n",
        "# Обучаем\n",
        "pipeline.fit(X_train, y_train)\n",
        "\n",
        "# Предсказываем\n",
        "y_pred = pipeline.predict(X_test)\n",
        "\n",
        "# Оцениваем результаты\n",
        "print(classification_report(y_test, y_pred))"
      ]
    },
    {
      "cell_type": "markdown",
      "metadata": {
        "id": "J2MzwwOXKi_n"
      },
      "source": [
        "### Сохранение модели"
      ]
    },
    {
      "cell_type": "code",
      "execution_count": 9,
      "metadata": {
        "colab": {
          "base_uri": "https://localhost:8080/"
        },
        "id": "vsK3swFgKaY1",
        "outputId": "597709bc-d901-4ba1-ed2e-f64c6173c7c9"
      },
      "outputs": [],
      "source": [
        "# Сохранение модели\n",
        "save_path = \"models/model_mtp_group.pkl\"\n",
        "\n",
        "# Создание папки, если её нет\n",
        "os.makedirs(os.path.dirname(save_path), exist_ok=True)\n",
        "\n",
        "with open(save_path, \"wb\") as f:\n",
        "    dill.dump(pipeline, f)"
      ]
    }
  ],
  "metadata": {
    "colab": {
      "collapsed_sections": [
        "cKc_-8KwZiki",
        "6cjTHBI9ZlYn",
        "wbgVlUqTaRtn"
      ],
      "provenance": []
    },
    "kernelspec": {
      "display_name": "venv",
      "language": "python",
      "name": "python3"
    },
    "language_info": {
      "codemirror_mode": {
        "name": "ipython",
        "version": 3
      },
      "file_extension": ".py",
      "mimetype": "text/x-python",
      "name": "python",
      "nbconvert_exporter": "python",
      "pygments_lexer": "ipython3",
      "version": "3.10.11"
    }
  },
  "nbformat": 4,
  "nbformat_minor": 0
}
