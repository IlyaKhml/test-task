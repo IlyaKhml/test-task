{
  "cells": [
    {
      "cell_type": "markdown",
      "metadata": {
        "id": "cKc_-8KwZiki"
      },
      "source": [
        "# **Импорт библиотек**"
      ]
    },
    {
      "cell_type": "code",
      "execution_count": 28,
      "metadata": {
        "id": "g4u9gyuLZHhD"
      },
      "outputs": [],
      "source": [
        "import pandas as pd\n",
        "import json\n",
        "import dill\n",
        "import os\n",
        "import warnings\n",
        "\n",
        "from sklearn.pipeline import Pipeline\n",
        "from sklearn.compose import ColumnTransformer\n",
        "from sklearn.preprocessing import FunctionTransformer, OneHotEncoder\n",
        "from sklearn.feature_extraction.text import TfidfVectorizer\n",
        "from sklearn.ensemble import RandomForestClassifier\n",
        "from sklearn.base import BaseEstimator, TransformerMixin\n",
        "\n",
        "from sklearn.metrics import classification_report\n",
        "from sklearn.model_selection import train_test_split"
      ]
    },
    {
      "cell_type": "markdown",
      "metadata": {
        "id": "6cjTHBI9ZlYn"
      },
      "source": [
        "# **Загрузка и подготовка данных**"
      ]
    },
    {
      "cell_type": "code",
      "execution_count": 29,
      "metadata": {},
      "outputs": [],
      "source": [
        "# --- Путь к файлу данных ---\n",
        "data_path = 'Сводная_2.xlsx'"
      ]
    },
    {
      "cell_type": "code",
      "execution_count": 30,
      "metadata": {
        "id": "JM-JTR_aZWXC"
      },
      "outputs": [],
      "source": [
        "try:\n",
        "    if data_path.endswith('.xlsx'):\n",
        "        data = pd.read_excel(data_path)\n",
        "\n",
        "    elif data_path.endswith('.csv'):\n",
        "        data = pd.read_csv(data_path)\n",
        "\n",
        "except Exception as e:\n",
        "    raise ValueError(f\"Ошибка при загрузке данных: {e}\")"
      ]
    },
    {
      "cell_type": "code",
      "execution_count": 31,
      "metadata": {
        "id": "cFLP1jbhfYwn"
      },
      "outputs": [],
      "source": [
        "def preprocess_df(df: pd.DataFrame, threshold_percent: float = 99, del_first_row: bool = True) -> pd.DataFrame:\n",
        "    \"\"\"\n",
        "    Очищает DataFrame, удаляя столбцы с пропусками выше заданного порога и (опционально) первую строку.\n",
        "\n",
        "    Функция выполняет следующие действия:\n",
        "    1. Удаляет первую строку, если параметр `del_first_row` равен `True`.\n",
        "    2. Удаляет столбцы, в которых процент пропущенных значений (`NaN`) превышает заданный порог.\n",
        "    3. Заполняет оставшиеся пропуски пустыми строками.\n",
        "\n",
        "    Args:\n",
        "        df (pd.DataFrame): Входной DataFrame для обработки.\n",
        "        threshold_percent (float, optional): Порог для удаления столбцов (в процентах).\n",
        "            Столбцы с процентом пропусков выше этого значения будут удалены.\n",
        "            Должен быть в диапазоне от 0 до 100. По умолчанию 99.\n",
        "        del_first_row (bool, optional): Флаг, указывающий, нужно ли удалять первую строку.\n",
        "            По умолчанию `True`.\n",
        "\n",
        "    Returns:\n",
        "        pd.DataFrame: Очищенный DataFrame, в котором:\n",
        "            - Удалены столбцы с пропусками выше порога.\n",
        "            - Удалена первая строка (если `del_first_row=True`).\n",
        "            - Оставшиеся пропуски заполнены пустыми строками.\n",
        "    \"\"\"\n",
        "    if not (0 <= threshold_percent <= 100):\n",
        "        raise ValueError(\"Порог должен быть в диапазоне от 0 до 100.\")\n",
        "\n",
        "    df = df.iloc[1:].reset_index(drop=True) if del_first_row else df.copy()\n",
        "\n",
        "    threshold = threshold_percent / 100\n",
        "    columns_to_keep = df.columns[df.isnull().mean() <= threshold]\n",
        "\n",
        "    return df[columns_to_keep].fillna(\"\")\n",
        "\n",
        "\n",
        "def replace_rare_values(data: pd.DataFrame, column_name: str = 'Группа МТР (ред.)', \n",
        "                        threshold: int = 100, replacement_value=\"Необходимо дообучение\"):\n",
        "    \"\"\"\n",
        "    Заменяет редкие значения в указанной колонке датафрейма на заданное значение.\n",
        "\n",
        "    Редкими считаются значения, количество которых в колонке меньше заданного порога (threshold).\n",
        "    Функция возвращает копию датафрейма с замененными значениями.\n",
        "\n",
        "    Args:\n",
        "        data (pd.DataFrame): Исходный датафрейм, в котором будут заменены редкие значения.\n",
        "        column_name (str, optional): Название колонки для замены редких значений.\n",
        "            По умолчанию 'Группа МТР (ред.)'.\n",
        "        threshold (int, optional): Пороговое значение для определения редких значений.\n",
        "            Если количество уникальных значений в колонке меньше этого числа, они будут заменены.\n",
        "            По умолчанию 100.\n",
        "        replacement_value (str, optional): Значение, на которое будут заменены редкие значения.\n",
        "            По умолчанию \"Необходимо дообучение\".\n",
        "\n",
        "    Returns:\n",
        "        pd.DataFrame: Копия исходного датафрейма с замененными редкими значениями в указанной колонке.\n",
        "    \"\"\"\n",
        "    data_copy = data.copy()\n",
        "    values_count = data_copy[column_name].value_counts()\n",
        "    values_to_replace = list(values_count[values_count < threshold].index)\n",
        "    data_copy[column_name] = data_copy[column_name].apply(\n",
        "        lambda x: replacement_value if x in values_to_replace else x\n",
        "    )\n",
        "\n",
        "    return data_copy\n",
        "\n",
        "\n",
        "data = preprocess_df(data)\n",
        "data = replace_rare_values(data)"
      ]
    },
    {
      "cell_type": "markdown",
      "metadata": {
        "id": "wbgVlUqTaRtn"
      },
      "source": [
        "# **Обучение модели**"
      ]
    },
    {
      "cell_type": "markdown",
      "metadata": {},
      "source": [
        "### Создание json конфига для модели"
      ]
    },
    {
      "cell_type": "code",
      "execution_count": 32,
      "metadata": {},
      "outputs": [],
      "source": [
        "# ---------------------------\n",
        "# Ручное определение колонок (лучшие колонки после тестировавния)\n",
        "# ---------------------------\n",
        "\n",
        "TARGET_COL = \"Группа МТР (ред.)\"\n",
        "categorical_cols = ['Чертёж', 'Тип, марка ГОСТ МТР', 'Марка РД']\n",
        "text_cols = ['Наименование МТР', 'Ед. изм.']\n",
        "\n",
        "# ---------------------------------------------------------------------------------------\n",
        "# Автоматическое определение категориальных колонок на основе кол-ва уникальных значений\n",
        "# ---------------------------------------------------------------------------------------\n",
        "\n",
        "# TARGET_COL = \"Группа МТР (ред.)\"\n",
        "# CATEGORICAL_THRESHOLD = 150  # Порог уникальных значений для категориальных данных\n",
        "\n",
        "# # Разделение колонок на категориальные и текстовые\n",
        "# categorical_cols = [\n",
        "#     col for col in data.columns \n",
        "#     if col != TARGET_COL and data[col].nunique() <= CATEGORICAL_THRESHOLD\n",
        "# ]\n",
        "\n",
        "# text_cols = [\n",
        "#     col for col in data.columns \n",
        "#     if col != TARGET_COL and data[col].nunique() > CATEGORICAL_THRESHOLD\n",
        "# ]\n",
        "\n",
        "# print(\"Категориальные столбцы:\", categorical_cols)\n",
        "# print(\"Текстовые столбцы:\", text_cols)"
      ]
    },
    {
      "cell_type": "code",
      "execution_count": 35,
      "metadata": {},
      "outputs": [],
      "source": [
        "# ----------------------------------------------------------------------\n",
        "# - Словарь сопоставления предпологаемых колонок с колонками в данных. -\n",
        "# ----------------------------------------------------------------------\n",
        "\n",
        "# Создаём маппинг по текущим данным\n",
        "mapping = {i:i for i in data.columns if i != TARGET_COL}\n",
        "\n",
        "# Ручной ввод:\n",
        "# mapping = {\n",
        "#         \"Чертёж\": [\"Чертёж часть 1\", \"Чертёж часть 2\"], # Например, столбец \"Чертёж\" разделён на 2 столбца\n",
        "#         \"Марка РД\": \"Марка РД\",\n",
        "#         \"Наименование МТР\": \"Наименование МТР\",\n",
        "#         \"Тип, марка ГОСТ МТР\": \"Тип, марка ГОСТ МТР\",\n",
        "#         \"Ед. изм.\": \"Ед. изм.\"\n",
        "#     }"
      ]
    },
    {
      "cell_type": "code",
      "execution_count": 36,
      "metadata": {},
      "outputs": [],
      "source": [
        "# Финальный конфиг\n",
        "config = {\n",
        "    \"column_mapping\": mapping,\n",
        "    \"categorical_cols\": categorical_cols,\n",
        "    \"text_cols\": text_cols,\n",
        "}\n",
        "\n",
        "# Сохранение в JSON файл\n",
        "config_path = \"models/model_mtp_group_config.json\"\n",
        "with open(config_path, \"w\", encoding=\"utf-8\") as f:\n",
        "    json.dump(config, f, ensure_ascii=False, indent=4)"
      ]
    },
    {
      "cell_type": "markdown",
      "metadata": {},
      "source": [
        "### Обучение модели"
      ]
    },
    {
      "cell_type": "code",
      "execution_count": 37,
      "metadata": {},
      "outputs": [],
      "source": [
        "class SafeColumnMapper(BaseEstimator, TransformerMixin):\n",
        "    \"\"\"\n",
        "    Комбинированный класс для безопасного переиндексирования и маппинга колонок в DataFrame.\n",
        "\n",
        "    Атрибуты:\n",
        "        required_cols (list): Список колонок, которые должны присутствовать в выходном DataFrame.\n",
        "        fill_value (any, optional): Значение, которым будут заполнены отсутствующие колонки (по умолчанию None).\n",
        "        mapping (dict): Словарь, где ключ – ожидаемое имя столбца, а значение – либо имя столбца во входных данных, либо список имен, которые нужно объединить.\n",
        "    \"\"\"\n",
        "    def __init__(self, required_cols=None, fill_value=None, mapping=None):\n",
        "        self.required_cols = required_cols if required_cols is not None else []\n",
        "        self.fill_value = fill_value\n",
        "        self.mapping = mapping if mapping is not None else {}\n",
        "\n",
        "    def fit(self, X, y=None):\n",
        "        return self\n",
        "\n",
        "    def transform(self, X):\n",
        "        # Преобразуем в DataFrame, если входные данные не DataFrame\n",
        "        if not isinstance(X, pd.DataFrame):\n",
        "            X = pd.DataFrame(X)\n",
        "\n",
        "        # Применяем маппинг колонок\n",
        "        df_new = pd.DataFrame(index=X.index)\n",
        "        for target_col, source_cols in self.mapping.items():\n",
        "            if isinstance(source_cols, list):\n",
        "                valid_cols = [col for col in source_cols if col in X.columns]\n",
        "                missing = [col for col in source_cols if col not in X.columns]\n",
        "\n",
        "                if missing:\n",
        "                    warnings.warn(f\"Следующие столбцы отсутствуют в переданных данных и будут пропущены: {missing}\", UserWarning)\n",
        "\n",
        "                df_new[target_col] = X[valid_cols].fillna(\"\").astype(str).agg(\" \".join, axis=1) if valid_cols else \"\"\n",
        "\n",
        "            elif isinstance(source_cols, str):\n",
        "                if source_cols in X.columns:\n",
        "                    df_new[target_col] = X[source_cols] if source_cols in X.columns else \"\"\n",
        "\n",
        "            else:\n",
        "                raise ValueError(f\"Некорректный тип значения в mapping для {target_col}: {source_cols} ({type(source_cols)})\")\n",
        "\n",
        "        # Добавляем отсутствующие колонки\n",
        "        missing_cols = [col for col in self.required_cols if col not in df_new.columns]\n",
        "        if missing_cols:\n",
        "            warnings.warn(f\"Необходимые столбцы не найдены и будут заполнены значением {repr(self.fill_value)}: {missing_cols}\", UserWarning)\n",
        "\n",
        "        df_new = df_new.reindex(columns=self.required_cols, fill_value=self.fill_value).fillna(\"\")\n",
        "\n",
        "        return df_new\n",
        "\n",
        "\n",
        "def create_pipeline(mapping, categorical_cols, text_cols, fill_value=\"\"):\n",
        "    \"\"\"\n",
        "    Создаёт пайплайн, который сначала приводит входные данные к ожидаемому формату\n",
        "    с помощью SafeColumnMapper, гарантируя наличие всех требуемых столбцов и\n",
        "    выполняя предварительную обработку, а затем проводит классификацию.\n",
        "\n",
        "    Аргументы:\n",
        "        mapping: dict, сопоставление ожидаемых названий столбцов с именами из входных данных.\n",
        "        categorical_cols: список ожидаемых имен столбцов для категориальных признаков.\n",
        "        text_cols: список ожидаемых имен столбцов для текстовых признаков.\n",
        "        fill_value: значение для заполнения отсутствующих колонок.\n",
        "    \"\"\"\n",
        "    # Шаг приведения входных данных к нужному виду\n",
        "    safe_column_mapper = SafeColumnMapper(required_cols=categorical_cols + text_cols, fill_value=fill_value, mapping=mapping)\n",
        "\n",
        "    # Пайплайн для категориальных признаков\n",
        "    cat_pipeline = Pipeline([\n",
        "        ('astype_str', FunctionTransformer(lambda x: x.astype(str), validate=False)),\n",
        "        (\"onehot\", OneHotEncoder(sparse_output=False, handle_unknown='ignore'))\n",
        "    ])\n",
        "\n",
        "    # Пайплайн для текстовых признаков\n",
        "    text_pipeline = Pipeline([\n",
        "        # Преобразуем входной массив в DataFrame с колонками text_cols\n",
        "        (\"to_df\", FunctionTransformer(lambda arr: pd.DataFrame(arr, columns=text_cols), validate=False)),\n",
        "        # Объединяем колонки в единый текст\n",
        "        (\"combine_text\", FunctionTransformer(lambda df: df.apply(lambda row: \" \".join(row.astype(str)), axis=1), validate=False)),\n",
        "        (\"tfidf\", TfidfVectorizer())\n",
        "    ])\n",
        "\n",
        "    # ColumnTransformer, который параллельно обрабатывает категориальные и текстовые признаки\n",
        "    preprocessor = ColumnTransformer([\n",
        "        (\"cat\", cat_pipeline, categorical_cols),\n",
        "        (\"text\", text_pipeline, text_cols)\n",
        "    ])\n",
        "\n",
        "    # Итоговый пайплайн\n",
        "    pipeline = Pipeline([\n",
        "        (\"safe_column_mapper\", safe_column_mapper),\n",
        "        (\"preprocessing\", preprocessor),\n",
        "        (\"clf\", RandomForestClassifier(random_state=42))\n",
        "    ])\n",
        "\n",
        "    return pipeline"
      ]
    },
    {
      "cell_type": "code",
      "execution_count": 38,
      "metadata": {
        "colab": {
          "base_uri": "https://localhost:8080/"
        },
        "id": "vy6YFpenHKGK",
        "outputId": "e8f692c5-804b-493e-b123-60cbc5cb5a18"
      },
      "outputs": [
        {
          "name": "stdout",
          "output_type": "stream",
          "text": [
            "                                                         precision    recall  f1-score   support\n",
            "\n",
            "                                  Арматура строительная       0.99      0.99      0.99       183\n",
            "                                                  Бетон       1.00      0.99      0.99        70\n",
            "                                            Воздуховоды       1.00      1.00      1.00        63\n",
            "                                                    ЖБИ       1.00      0.98      0.99        92\n",
            "                                                    ЗРА       0.98      0.97      0.98       183\n",
            "                                     Инертные материалы       0.90      1.00      0.95        46\n",
            "                                  КИПиА и комплектующие       0.99      0.89      0.94       167\n",
            "                                  Кабеленесущие системы       0.81      0.91      0.86       151\n",
            "                                Кабельная арматура (КА)       0.95      0.95      0.95       210\n",
            "                       Кабельно-проводниковая продукция       0.96      0.98      0.97       249\n",
            "          Кирпич, газобетонные, керамзитобетонные блоки       0.94      1.00      0.97        34\n",
            "                         Конструкции кровельно-фасадные       0.87      0.87      0.87        46\n",
            "                              Крепеж и метизы (весовые)       0.97      0.95      0.96        76\n",
            "                                  Крепеж и метизы (шт.)       0.91      0.95      0.93       392\n",
            "                                                    ЛКМ       0.92      0.90      0.91        79\n",
            "                                Материалы АКЗ, ОГЗ (кг)       0.92      0.92      0.92        98\n",
            "                  Материалы гидро-пароизоляционные (кг)       0.97      0.89      0.93        36\n",
            "                                  Материалы систем ОВиК       0.95      0.97      0.96       409\n",
            "                        Материалы теплоизоляционные (м)       0.99      0.91      0.95       103\n",
            "                       Материалы теплоизоляционные (м2)       0.92      0.86      0.89        42\n",
            "                       Материалы теплоизоляционные (м3)       0.95      0.94      0.95        66\n",
            "                                         Металлоизделия       0.94      0.70      0.80        94\n",
            "                                      Металлопрокат (м)       0.86      0.85      0.86        73\n",
            "                                     Металлопрокат (м2)       0.94      0.92      0.93        37\n",
            "                                  Металлопрокат весовой       0.97      0.97      0.97       221\n",
            "                                  Необходимо дообучение       0.89      0.90      0.89       426\n",
            "                                                   ОДЦИ       0.77      0.83      0.80        41\n",
            "                                           Оборудование       0.79      0.69      0.74        59\n",
            "               Оборудование и материалы противопожарные       0.97      0.81      0.88        70\n",
            "                               Оборудование систем ОВиК       0.92      0.89      0.91        93\n",
            "                    Окна, двери, ворота и комплектующие       0.95      0.95      0.95       130\n",
            "                                                  Опоры       0.98      0.94      0.96       161\n",
            "                              Отделочные материалы (м2)       0.88      0.88      0.88        60\n",
            "                                    Расходные материалы       0.91      0.63      0.75        49\n",
            "                        Резинотехнические изделия (РТИ)       0.93      0.79      0.85        33\n",
            "                     Сантехнические изделия и материалы       0.89      0.84      0.86        38\n",
            "           Смеси, растворы строительные, клей (весовые)       0.89      0.87      0.88        75\n",
            "              Соединительные детали трубопроводов (СДТ)       0.92      0.99      0.95       570\n",
            "       Труба ПВХ, ПЭ, ПП, ПНД, металлополuмерная и т.п.       0.95      0.98      0.97       118\n",
            "                                     Труба стальная (м)       0.98      0.98      0.98       213\n",
            "               Электромонтажные изделия и материалы (м)       0.98      0.95      0.96        43\n",
            "           Электромонтажные изделия изделия и материалы       0.88      0.80      0.84        93\n",
            "Электротехника, электроустановочные изделия и материалы       0.90      0.91      0.90       290\n",
            "\n",
            "                                               accuracy                           0.93      5782\n",
            "                                              macro avg       0.93      0.90      0.92      5782\n",
            "                                           weighted avg       0.93      0.93      0.93      5782\n",
            "\n"
          ]
        }
      ],
      "source": [
        "# Загрузка конфигурации\n",
        "with open(config_path, \"r\", encoding=\"utf-8\") as f:\n",
        "    loaded_config = json.load(f)\n",
        "\n",
        "pipeline = create_pipeline(mapping, categorical_cols, text_cols, fill_value=\"\")\n",
        "\n",
        "# Разделяем на признаки и целевую переменную\n",
        "X = data.drop(columns=[TARGET_COL])\n",
        "y = data[TARGET_COL]\n",
        "\n",
        "# Тренировочная и тестовая выборки\n",
        "X_train, X_test, y_train, y_test = train_test_split(\n",
        "    X, y,\n",
        "    test_size=0.3,\n",
        "    random_state=42,\n",
        "    stratify=y\n",
        ")\n",
        "\n",
        "# Обучаем\n",
        "pipeline.fit(X_train, y_train)\n",
        "\n",
        "# Предсказываем\n",
        "y_pred = pipeline.predict(X_test)\n",
        "\n",
        "# Оцениваем результаты\n",
        "print(classification_report(y_test, y_pred))"
      ]
    },
    {
      "cell_type": "markdown",
      "metadata": {
        "id": "J2MzwwOXKi_n"
      },
      "source": [
        "### Сохранение модели"
      ]
    },
    {
      "cell_type": "code",
      "execution_count": 39,
      "metadata": {
        "colab": {
          "base_uri": "https://localhost:8080/"
        },
        "id": "vsK3swFgKaY1",
        "outputId": "597709bc-d901-4ba1-ed2e-f64c6173c7c9"
      },
      "outputs": [],
      "source": [
        "# Сохранение модели\n",
        "save_path = \"models/model_mtp_group.pkl\"\n",
        "\n",
        "# Создание папки, если её нет\n",
        "os.makedirs(os.path.dirname(save_path), exist_ok=True)\n",
        "\n",
        "with open(save_path, \"wb\") as f:\n",
        "    dill.dump(pipeline, f)"
      ]
    }
  ],
  "metadata": {
    "colab": {
      "collapsed_sections": [
        "cKc_-8KwZiki",
        "6cjTHBI9ZlYn",
        "wbgVlUqTaRtn"
      ],
      "provenance": []
    },
    "kernelspec": {
      "display_name": "venv",
      "language": "python",
      "name": "python3"
    },
    "language_info": {
      "codemirror_mode": {
        "name": "ipython",
        "version": 3
      },
      "file_extension": ".py",
      "mimetype": "text/x-python",
      "name": "python",
      "nbconvert_exporter": "python",
      "pygments_lexer": "ipython3",
      "version": "3.10.11"
    }
  },
  "nbformat": 4,
  "nbformat_minor": 0
}
